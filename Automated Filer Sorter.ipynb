{
 "cells": [
  {
   "cell_type": "markdown",
   "id": "a159da3b",
   "metadata": {},
   "source": [
    "# Automatic File Sorter in File Expolorer"
   ]
  },
  {
   "cell_type": "markdown",
   "id": "b6f79289",
   "metadata": {},
   "source": [
    "os --> operating system\n",
    "shutil --> allows you to perform high level operations on our files in file export  "
   ]
  },
  {
   "cell_type": "code",
   "execution_count": 30,
   "id": "2f0cd077",
   "metadata": {},
   "outputs": [],
   "source": [
    "import os, shutil"
   ]
  },
  {
   "cell_type": "markdown",
   "id": "a5a6991e",
   "metadata": {},
   "source": [
    "Put r before the directory to make it a raw text"
   ]
  },
  {
   "cell_type": "code",
   "execution_count": 31,
   "id": "a176b611",
   "metadata": {},
   "outputs": [],
   "source": [
    "path = r\"D:/Uzair's data/Data Analyst Bootcamp by Alex/Python Series/Automated File Sorter/\""
   ]
  },
  {
   "cell_type": "markdown",
   "id": "964f0c31",
   "metadata": {},
   "source": [
    "os.listdir --> shows all the directories"
   ]
  },
  {
   "cell_type": "code",
   "execution_count": 32,
   "id": "39cd05fb",
   "metadata": {},
   "outputs": [],
   "source": [
    "file_name = os.listdir(path)"
   ]
  },
  {
   "cell_type": "code",
   "execution_count": 39,
   "id": "9be08780",
   "metadata": {},
   "outputs": [],
   "source": [
    "folder_names = ['excel files', 'jpg files', 'text files']\n",
    "\n",
    "for loop in range(0,3):\n",
    "       if not os.path.exists(path + folder_names[loop]):\n",
    "        os.makedirs(path + folder_names[loop])\n",
    "  \n",
    "\n",
    "for file in file_name:\n",
    "    if \".xlsx\" in file and not os.path.exists(path + \"excel files/\" + file):\n",
    "        shutil.move(path + file, path + \"excel files/\" + file)\n",
    "    elif \".txt\" in file and not os.path.exists(path + \"text files/\" + file):\n",
    "        shutil.move(path + file, path + \"text files/\" + file)\n",
    "    elif \".jpg\" in file and not os.path.exists(path + \"jpg files/\" + file):\n",
    "        shutil.move(path + file, path + \"jpg files/\" + file)\n",
    "    else:\n",
    "        print(\"There are files in this path that were not moved\")\n"
   ]
  }
 ],
 "metadata": {
  "kernelspec": {
   "display_name": "Python 3 (ipykernel)",
   "language": "python",
   "name": "python3"
  },
  "language_info": {
   "codemirror_mode": {
    "name": "ipython",
    "version": 3
   },
   "file_extension": ".py",
   "mimetype": "text/x-python",
   "name": "python",
   "nbconvert_exporter": "python",
   "pygments_lexer": "ipython3",
   "version": "3.10.9"
  }
 },
 "nbformat": 4,
 "nbformat_minor": 5
}
